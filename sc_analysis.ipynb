{
 "cells": [
  {
   "cell_type": "markdown",
   "id": "f00ca618",
   "metadata": {},
   "source": [
    "## Inital exploration of data"
   ]
  },
  {
   "cell_type": "code",
   "execution_count": 6,
   "id": "1b13a2d5",
   "metadata": {},
   "outputs": [
    {
     "name": "stdout",
     "output_type": "stream",
     "text": [
      "<xarray.Dataset> Size: 78MB\n",
      "Dimensions:                (MT: 1, Latitude: 1537, Longitude: 2101)\n",
      "Coordinates:\n",
      "    Date                   (MT) float64 8B ...\n",
      "  * Latitude               (Latitude) float32 6kB 18.09 18.1 ... 31.95 31.96\n",
      "  * Longitude              (Longitude) float32 8kB -98.0 -97.99 ... -77.01 -77.0\n",
      "  * MT                     (MT) datetime64[ns] 8B 2016-01-01\n",
      "Data variables:\n",
      "    mixed_layer_thickness  (MT, Latitude, Longitude) float32 13MB ...\n",
      "    ssh                    (MT, Latitude, Longitude) float32 13MB ...\n",
      "    u_barotropic_velocity  (MT, Latitude, Longitude) float32 13MB ...\n",
      "    v_barotropic_velocity  (MT, Latitude, Longitude) float32 13MB ...\n",
      "    wnd_ewd                (MT, Latitude, Longitude) float32 13MB ...\n",
      "    wnd_nwd                (MT, Latitude, Longitude) float32 13MB ...\n",
      "Attributes:\n",
      "    Conventions:                CF-1.6\n",
      "    title:                      HYCOM\n",
      "    source:                     HYCOM archive file\n",
      "    experiment:                 01.0\n",
      "    comment:                    p-grid\n",
      "    history:                    Wed May 25 13:24:00 2022: ncks -x -v surface_...\n",
      "    history_of_appended_files:  Wed May 25 13:23:59 2022: Appended file wind....\n",
      "    NCO:                        netCDF Operators version 4.9.8 (Homepage = ht...\n"
     ]
    }
   ],
   "source": [
    "import xarray as xr\n",
    "import matplotlib.pyplot as plt\n",
    "import cartopy.crs as ccrs\n",
    "from matplotlib.animation import FuncAnimation\n",
    "import numpy as np\n",
    "\n",
    "# Load your dataset\n",
    "ds = xr.open_dataset(\"hycom2016/010_archv_2016_001_00_2d.nc\")\n",
    "print(ds)"
   ]
  },
  {
   "cell_type": "code",
   "execution_count": 3,
   "id": "93778051",
   "metadata": {},
   "outputs": [
    {
     "name": "stdout",
     "output_type": "stream",
     "text": [
      "<xarray.DataArray 'u_barotropic_velocity' (MT: 1, Latitude: 1537,\n",
      "                                           Longitude: 2101)> Size: 13MB\n",
      "[3229237 values with dtype=float32]\n",
      "Coordinates:\n",
      "    Date       (MT) float64 8B ...\n",
      "  * Latitude   (Latitude) float32 6kB 18.09 18.1 18.11 ... 31.94 31.95 31.96\n",
      "  * Longitude  (Longitude) float32 8kB -98.0 -97.99 -97.98 ... -77.01 -77.0\n",
      "  * MT         (MT) datetime64[ns] 8B 2016-01-01\n",
      "Attributes:\n",
      "    standard_name:  barotropic_eastward_sea_water_velocity\n",
      "    units:          m/s\n",
      "    valid_range:    [-1.2002983  1.37218  ]\n",
      "    long_name:          baro. u-vel.   [01.0H]\n"
     ]
    }
   ],
   "source": [
    "u=ds['u_barotropic_velocity']\n",
    "print(u)"
   ]
  },
  {
   "cell_type": "markdown",
   "id": "9e8fa680",
   "metadata": {},
   "source": [
    "### Thoughts\n",
    "1. we want to isolate a slice of current data based on the ingestion information present form [this paper](https://www.frontiersin.org/journals/marine-science/articles/10.3389/fmars.2020.00693/full). Ideally the area should spread onto the ocean. "
   ]
  },
  {
   "cell_type": "code",
   "execution_count": null,
   "id": "bcbc9537",
   "metadata": {},
   "outputs": [
    {
     "data": {
      "image/png": "[encoded data removed]",
      "text/plain": [
       "<Figure size 1000x800 with 1 Axes>"
      ]
     },
     "metadata": {},
     "output_type": "display_data"
    }
   ],
   "source": [
    "uspec = u.sel(Latitude=slice(18.2, 19.0), Longitude=slice(-98.0, -97.5))\n",
    "vspec = ds['v_barotropic_velocity'].sel(Latitude=slice(18.2, 19.0), Longitude=slice(-98.0, -97.5))\n",
    "\n",
    "lat = uspec['Latitude'].values\n",
    "lon = uspec['Longitude'].values\n",
    "\n",
    "# Create 2D meshgrid (as required by quiver)\n",
    "lon2d, lat2d = np.meshgrid(lon, lat)\n",
    "\n",
    "# Extract the velocity components at the first time index\n",
    "u_data = uspec.isel(MT=0).values\n",
    "v_data = vspec.isel(MT=0).values\n",
    "\n",
    "fig = plt.figure(figsize=(10, 8))\n",
    "ax = plt.axes(projection=ccrs.PlateCarree())\n",
    "ax.coastlines()\n",
    "ax.set_extent([lon.min(), lon.max(), lat.min(), lat.max()], crs=ccrs.PlateCarree())\n",
    "\n",
    "# Initialize quiver plot\n",
    "quiver = ax.quiver(lon2d, lat2d, u_data, v_data, scale=50)\n",
    "\n",
    "# Animation function\n",
    "def animate(i):\n",
    "    quiver.set_UVC(u_[i], v_[i])\n",
    "    ax.set_title(f\"Surface Currents | Time index: {i}\")\n",
    "    return quiver,\n",
    "\n",
    "# Create animation\n",
    "anim = FuncAnimation(fig, animate, frames=len(u_['MT']), interval=500)\n",
    "\n",
    "# Show the animation\n",
    "plt.show()\n",
    "\n",
    "\n"
   ]
  }
 ],
 "metadata": {
  "kernelspec": {
   "display_name": "venv",
   "language": "python",
   "name": "python3"
  },
  "language_info": {
   "codemirror_mode": {
    "name": "ipython",
    "version": 3
   },
   "file_extension": ".py",
   "mimetype": "text/x-python",
   "name": "python",
   "nbconvert_exporter": "python",
   "pygments_lexer": "ipython3",
   "version": "3.11.2"
  }
 },
 "nbformat": 4,
 "nbformat_minor": 5
}
